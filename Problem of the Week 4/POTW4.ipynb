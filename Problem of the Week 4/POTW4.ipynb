{
 "cells": [
  {
   "cell_type": "code",
   "execution_count": 102,
   "metadata": {},
   "outputs": [],
   "source": [
    "import numpy as np\n",
    "from random import randint\n",
    "import collections"
   ]
  },
  {
   "cell_type": "markdown",
   "metadata": {},
   "source": [
    "**POTW 4:**"
   ]
  },
  {
   "cell_type": "code",
   "execution_count": 14,
   "metadata": {},
   "outputs": [
    {
     "name": "stdout",
     "output_type": "stream",
     "text": [
      "[135, 138, 234, 237, 333, 336, 432, 435, 531, 534, 630, 633, 732, 831, 930]\n"
     ]
    }
   ],
   "source": [
    "targets = [666, 669, 696, 699, 999, 966, 996, 969] \n",
    "three_digit_nums = list(range(100,1000))\n",
    "\n",
    "good_nums = []\n",
    "for num in three_digit_nums:\n",
    "    string_num = str(num)\n",
    "    reverse_num = int(string_num[::-1])\n",
    "    if reverse_num + num in targets:\n",
    "        good_nums.append(num)\n",
    "print(good_nums)"
   ]
  }
 ],
 "metadata": {
  "kernelspec": {
   "display_name": "Python 3",
   "language": "python",
   "name": "python3"
  },
  "language_info": {
   "codemirror_mode": {
    "name": "ipython",
    "version": 3
   },
   "file_extension": ".py",
   "mimetype": "text/x-python",
   "name": "python",
   "nbconvert_exporter": "python",
   "pygments_lexer": "ipython3",
   "version": "3.7.6"
  }
 },
 "nbformat": 4,
 "nbformat_minor": 2
}
